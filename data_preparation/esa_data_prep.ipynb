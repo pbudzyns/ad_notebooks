{
 "cells": [
  {
   "cell_type": "code",
   "execution_count": 1,
   "id": "72477477",
   "metadata": {},
   "outputs": [],
   "source": [
    "import pathlib\n",
    "import sys\n",
    "\n",
    "import numpy as np\n",
    "import pandas as pd"
   ]
  },
  {
   "cell_type": "code",
   "execution_count": 2,
   "id": "7618e28d",
   "metadata": {},
   "outputs": [],
   "source": [
    "START = '2019-09-01'\n",
    "END = '2019-10-01'"
   ]
  },
  {
   "cell_type": "markdown",
   "id": "20b85cdc",
   "metadata": {},
   "source": [
    "### Collect raw data frames and remove rows where value didn't change comparing to previous time step"
   ]
  },
  {
   "cell_type": "code",
   "execution_count": 5,
   "id": "163d19e6",
   "metadata": {},
   "outputs": [],
   "source": [
    "folder = pathlib.Path('../data/GaiaAnomalyDataset/data')\n",
    "short_data_folder = folder / f\"{START.replace('-', '_')}_to_{END.replace('-', '_')}\"\n",
    "data_frames = {}\n",
    "if not short_data_folder.exists():\n",
    "    short_data_folder.mkdir()\n",
    "    \n",
    "for file in folder.glob('*.csv'):\n",
    "    data = pd.read_csv(file, parse_dates=True, index_col='date')\n",
    "    # Select indices within desired time range\n",
    "    mask = np.logical_and(data.index > START, data.index < END)\n",
    "    data = data[mask]\n",
    "    # Filter out the records where values didn't change to reduce size.\n",
    "    a = data.values.reshape((len(data.values,)))\n",
    "    mask = (np.abs(a[1:] - a[:-1]) > sys.float_info.epsilon)\n",
    "    mask = np.concatenate(([True], mask))\n",
    "    data.iloc[mask]\n",
    "    \n",
    "    data_frames[file.name] = data"
   ]
  },
  {
   "cell_type": "markdown",
   "id": "fa1e3fdc",
   "metadata": {},
   "source": [
    "### Join data frames into a one frame"
   ]
  },
  {
   "cell_type": "code",
   "execution_count": null,
   "id": "b970aee3",
   "metadata": {},
   "outputs": [],
   "source": [
    "result_df = None\n",
    "# Join data frame so all selected parameters have their\n",
    "# original values.\n",
    "for df in data_frames.values():\n",
    "    if result_df is not None:\n",
    "        result_df = result_df.join(df, how='outer')\n",
    "    else:\n",
    "        result_df = df\n",
    "\n",
    "# Back-fill empty cells.\n",
    "result_df = result_df.bfill().ffill()\n",
    "print(result_df)"
   ]
  },
  {
   "cell_type": "markdown",
   "id": "f0566df8",
   "metadata": {},
   "source": [
    "### Remove rows where there is no change again compared to previous timestamp"
   ]
  },
  {
   "cell_type": "code",
   "execution_count": 7,
   "id": "e6ad48e0",
   "metadata": {},
   "outputs": [
    {
     "name": "stdout",
     "output_type": "stream",
     "text": [
      "897429\n"
     ]
    }
   ],
   "source": [
    "df_mask = None\n",
    "for column in result_df.columns:\n",
    "    values = result_df[column].values\n",
    "    a = values.reshape((len(values,)))\n",
    "    mask = (np.abs(a[1:] - a[:-1]) > 0)\n",
    "    mask = np.concatenate(([True], mask))\n",
    "    \n",
    "    if df_mask is None:\n",
    "        df_mask = mask\n",
    "    else:\n",
    "        df_mask = np.logical_or(df_mask, mask)\n",
    "\n",
    "short_data = result_df.iloc[df_mask]\n",
    "short_data.to_csv(short_data_folder / \"short_data.csv\")"
   ]
  }
 ],
 "metadata": {
  "kernelspec": {
   "display_name": "Python 3",
   "language": "python",
   "name": "python3"
  },
  "language_info": {
   "codemirror_mode": {
    "name": "ipython",
    "version": 3
   },
   "file_extension": ".py",
   "mimetype": "text/x-python",
   "name": "python",
   "nbconvert_exporter": "python",
   "pygments_lexer": "ipython3",
   "version": "3.6.13"
  }
 },
 "nbformat": 4,
 "nbformat_minor": 5
}
